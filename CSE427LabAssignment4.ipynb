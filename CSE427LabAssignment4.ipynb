{
  "nbformat": 4,
  "nbformat_minor": 0,
  "metadata": {
    "colab": {
      "provenance": []
    },
    "kernelspec": {
      "name": "python3",
      "display_name": "Python 3"
    },
    "language_info": {
      "name": "python"
    }
  },
  "cells": [
    {
      "cell_type": "code",
      "execution_count": null,
      "metadata": {
        "id": "JFZPU7oO0ovh"
      },
      "outputs": [],
      "source": [
        "# import necessary libraries\n",
        "import numpy as np\n",
        "from collections import Counter\n",
        "from sklearn.model_selection import train_test_split\n",
        "from sklearn.datasets import load_iris\n",
        "from sklearn.metrics import accuracy_score\n",
        "from sklearn.model_selection import cross_val_score\n",
        "import matplotlib.pyplot as plt"
      ]
    },
    {
      "cell_type": "markdown",
      "source": [
        "# Implementing KNN Classifier from Scratch"
      ],
      "metadata": {
        "id": "61ePAAeU8An6"
      }
    },
    {
      "cell_type": "code",
      "source": [
        "\n",
        "class KNN:\n",
        "    def __init__(self, k):\n",
        "        self.k = k\n",
        "\n",
        "    def euclidean_distance(self, point1, point2):\n",
        "        return np.sqrt(np.sum((np.array(point1) - np.array(point2)) ** 2))\n",
        "\n",
        "    def fit(self, X_train, y_train):\n",
        "        self.X_train = np.array(X_train)\n",
        "        self.y_train = np.array(y_train)\n",
        "\n",
        "    def predict(self, X_test):\n",
        "        predictions = [self.predict_label(x) for x in X_test]\n",
        "        return predictions\n",
        "\n",
        "    def predict_label(self, x):\n",
        "        distances = [self.euclidean_distance(x, train_point) for train_point in self.X_train]\n",
        "        k_indices = np.argsort(distances)[:self.k]\n",
        "        k_labels = [self.y_train[i] for i in k_indices]\n",
        "        most_common = Counter(k_labels).most_common(1)[0][0]\n",
        "        return most_common\n"
      ],
      "metadata": {
        "id": "BL71w3dz7y_6"
      },
      "execution_count": null,
      "outputs": []
    },
    {
      "cell_type": "code",
      "source": [
        "# Load the Iris dataset\n",
        "iris = load_iris()\n",
        "X = iris.data\n",
        "y = iris.target\n",
        "\n",
        "# Split the data into training and test sets\n",
        "X_train, X_test, y_train, y_test = train_test_split(X, y, test_size=0.3, random_state=41)\n",
        "\n",
        "# Initialize KNN classifier with the value of n\n",
        "knn = KNN(3)\n",
        "\n",
        "# Fit the model\n",
        "knn.fit(X_train, y_train)\n",
        "\n",
        "# Predict on the test set\n",
        "y_pred = knn.predict(X_test)\n",
        "\n",
        "# Calculate accuracy (write down the equation to calculate accuracy, and uncomment the print function)\n",
        "accuracy = np.sum(y_pred == y_test) / len(y_test)\n",
        "\n",
        "print(f\"Accuracy of KNN from scratch: {accuracy * 100:.2f}%\")"
      ],
      "metadata": {
        "id": "1tc0aUg-73Jg",
        "colab": {
          "base_uri": "https://localhost:8080/"
        },
        "outputId": "e8a96a10-759b-461b-8391-80e13abe180e"
      },
      "execution_count": null,
      "outputs": [
        {
          "output_type": "stream",
          "name": "stdout",
          "text": [
            "Accuracy of KNN from scratch: 91.11%\n"
          ]
        }
      ]
    }
  ]
}